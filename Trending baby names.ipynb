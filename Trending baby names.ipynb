{
 "cells": [
  {
   "cell_type": "markdown",
   "id": "a05eae31",
   "metadata": {},
   "source": [
    "## Trending baby names"
   ]
  },
  {
   "cell_type": "markdown",
   "id": "6e958739",
   "metadata": {},
   "source": [
    "### Load dataset"
   ]
  },
  {
   "cell_type": "code",
   "execution_count": 3,
   "id": "5134445f",
   "metadata": {},
   "outputs": [
    {
     "data": {
      "text/html": [
       "<div>\n",
       "<style scoped>\n",
       "    .dataframe tbody tr th:only-of-type {\n",
       "        vertical-align: middle;\n",
       "    }\n",
       "\n",
       "    .dataframe tbody tr th {\n",
       "        vertical-align: top;\n",
       "    }\n",
       "\n",
       "    .dataframe thead th {\n",
       "        text-align: right;\n",
       "    }\n",
       "</style>\n",
       "<table border=\"1\" class=\"dataframe\">\n",
       "  <thead>\n",
       "    <tr style=\"text-align: right;\">\n",
       "      <th></th>\n",
       "      <th>year</th>\n",
       "      <th>name</th>\n",
       "      <th>gender</th>\n",
       "      <th>count</th>\n",
       "    </tr>\n",
       "  </thead>\n",
       "  <tbody>\n",
       "    <tr>\n",
       "      <th>0</th>\n",
       "      <td>1880</td>\n",
       "      <td>Mary</td>\n",
       "      <td>F</td>\n",
       "      <td>7065</td>\n",
       "    </tr>\n",
       "    <tr>\n",
       "      <th>1</th>\n",
       "      <td>1880</td>\n",
       "      <td>Anna</td>\n",
       "      <td>F</td>\n",
       "      <td>2604</td>\n",
       "    </tr>\n",
       "    <tr>\n",
       "      <th>2</th>\n",
       "      <td>1880</td>\n",
       "      <td>Emma</td>\n",
       "      <td>F</td>\n",
       "      <td>2003</td>\n",
       "    </tr>\n",
       "    <tr>\n",
       "      <th>3</th>\n",
       "      <td>1880</td>\n",
       "      <td>Elizabeth</td>\n",
       "      <td>F</td>\n",
       "      <td>1939</td>\n",
       "    </tr>\n",
       "    <tr>\n",
       "      <th>4</th>\n",
       "      <td>1880</td>\n",
       "      <td>Minnie</td>\n",
       "      <td>F</td>\n",
       "      <td>1746</td>\n",
       "    </tr>\n",
       "  </tbody>\n",
       "</table>\n",
       "</div>"
      ],
      "text/plain": [
       "   year       name gender  count\n",
       "0  1880       Mary      F   7065\n",
       "1  1880       Anna      F   2604\n",
       "2  1880       Emma      F   2003\n",
       "3  1880  Elizabeth      F   1939\n",
       "4  1880     Minnie      F   1746"
      ]
     },
     "execution_count": 3,
     "metadata": {},
     "output_type": "execute_result"
    }
   ],
   "source": [
    "import matplotlib.pyplot as plt\n",
    "import numpy as np\n",
    "import pandas as pd\n",
    "import seaborn as sns\n",
    "baby_names = pd.read_csv(\"https://raw.githubusercontent.com/erood/interviewqs.com_code_snippets/master/Datasets/ddi_baby_names.csv\")\n",
    "baby_names.head()"
   ]
  },
  {
   "cell_type": "markdown",
   "id": "26ea1eba",
   "metadata": {},
   "source": [
    "### Number of unique names split by genders"
   ]
  },
  {
   "cell_type": "code",
   "execution_count": 8,
   "id": "41ae4a75",
   "metadata": {},
   "outputs": [
    {
     "data": {
      "text/plain": [
       "98400"
      ]
     },
     "execution_count": 8,
     "metadata": {},
     "output_type": "execute_result"
    }
   ],
   "source": [
    "# Unique names either gender.\n",
    "baby_names[\"name\"].nunique()\n"
   ]
  },
  {
   "cell_type": "code",
   "execution_count": 9,
   "id": "2444db2d",
   "metadata": {},
   "outputs": [
    {
     "data": {
      "text/plain": [
       "41475"
      ]
     },
     "execution_count": 9,
     "metadata": {},
     "output_type": "execute_result"
    }
   ],
   "source": [
    "# Unique names for male.\n",
    "baby_names[baby_names[\"gender\"] == \"M\"][\"name\"].nunique()"
   ]
  },
  {
   "cell_type": "code",
   "execution_count": 10,
   "id": "2f955d0a",
   "metadata": {},
   "outputs": [
    {
     "data": {
      "text/plain": [
       "67698"
      ]
     },
     "execution_count": 10,
     "metadata": {},
     "output_type": "execute_result"
    }
   ],
   "source": [
    "# Unique names for female.\n",
    "baby_names[baby_names[\"gender\"] == \"F\"][\"name\"].nunique()"
   ]
  },
  {
   "cell_type": "code",
   "execution_count": 11,
   "id": "21a6489f",
   "metadata": {},
   "outputs": [
    {
     "data": {
      "text/plain": [
       "10773"
      ]
     },
     "execution_count": 11,
     "metadata": {},
     "output_type": "execute_result"
    }
   ],
   "source": [
    "# Unique names for gender neutral.\n",
    "unique_names = baby_names.pivot_table(index=\"name\", columns=\"gender\", values=\"count\", aggfunc=np.sum).dropna()\n",
    "unique_names.index.nunique()"
   ]
  },
  {
   "cell_type": "markdown",
   "id": "78a16816",
   "metadata": {},
   "source": [
    "### Top 10 most popular male and female names along with their associated counts"
   ]
  },
  {
   "cell_type": "code",
   "execution_count": 21,
   "id": "b986aae6",
   "metadata": {},
   "outputs": [
    {
     "data": {
      "text/html": [
       "<div>\n",
       "<style scoped>\n",
       "    .dataframe tbody tr th:only-of-type {\n",
       "        vertical-align: middle;\n",
       "    }\n",
       "\n",
       "    .dataframe tbody tr th {\n",
       "        vertical-align: top;\n",
       "    }\n",
       "\n",
       "    .dataframe thead th {\n",
       "        text-align: right;\n",
       "    }\n",
       "</style>\n",
       "<table border=\"1\" class=\"dataframe\">\n",
       "  <thead>\n",
       "    <tr style=\"text-align: right;\">\n",
       "      <th></th>\n",
       "      <th>count</th>\n",
       "    </tr>\n",
       "    <tr>\n",
       "      <th>name</th>\n",
       "      <th></th>\n",
       "    </tr>\n",
       "  </thead>\n",
       "  <tbody>\n",
       "    <tr>\n",
       "      <th>James</th>\n",
       "      <td>5164280</td>\n",
       "    </tr>\n",
       "    <tr>\n",
       "      <th>John</th>\n",
       "      <td>5124817</td>\n",
       "    </tr>\n",
       "    <tr>\n",
       "      <th>Robert</th>\n",
       "      <td>4820129</td>\n",
       "    </tr>\n",
       "    <tr>\n",
       "      <th>Michael</th>\n",
       "      <td>4362731</td>\n",
       "    </tr>\n",
       "    <tr>\n",
       "      <th>William</th>\n",
       "      <td>4117369</td>\n",
       "    </tr>\n",
       "    <tr>\n",
       "      <th>David</th>\n",
       "      <td>3621322</td>\n",
       "    </tr>\n",
       "    <tr>\n",
       "      <th>Joseph</th>\n",
       "      <td>2613304</td>\n",
       "    </tr>\n",
       "    <tr>\n",
       "      <th>Richard</th>\n",
       "      <td>2565301</td>\n",
       "    </tr>\n",
       "    <tr>\n",
       "      <th>Charles</th>\n",
       "      <td>2392779</td>\n",
       "    </tr>\n",
       "    <tr>\n",
       "      <th>Thomas</th>\n",
       "      <td>2311849</td>\n",
       "    </tr>\n",
       "  </tbody>\n",
       "</table>\n",
       "</div>"
      ],
      "text/plain": [
       "           count\n",
       "name            \n",
       "James    5164280\n",
       "John     5124817\n",
       "Robert   4820129\n",
       "Michael  4362731\n",
       "William  4117369\n",
       "David    3621322\n",
       "Joseph   2613304\n",
       "Richard  2565301\n",
       "Charles  2392779\n",
       "Thomas   2311849"
      ]
     },
     "execution_count": 21,
     "metadata": {},
     "output_type": "execute_result"
    }
   ],
   "source": [
    "# Male names\n",
    "male_top_10 = baby_names[baby_names[\"gender\"] == \"M\"]\n",
    "male_top_10 = male_top_10[[\"name\",\"count\"]].groupby(\"name\").sum()\n",
    "male_top_10.sort_values(\"count\",ascending=False).head(10)"
   ]
  },
  {
   "cell_type": "code",
   "execution_count": 20,
   "id": "bbb71d6b",
   "metadata": {},
   "outputs": [
    {
     "data": {
      "text/html": [
       "<div>\n",
       "<style scoped>\n",
       "    .dataframe tbody tr th:only-of-type {\n",
       "        vertical-align: middle;\n",
       "    }\n",
       "\n",
       "    .dataframe tbody tr th {\n",
       "        vertical-align: top;\n",
       "    }\n",
       "\n",
       "    .dataframe thead th {\n",
       "        text-align: right;\n",
       "    }\n",
       "</style>\n",
       "<table border=\"1\" class=\"dataframe\">\n",
       "  <thead>\n",
       "    <tr style=\"text-align: right;\">\n",
       "      <th></th>\n",
       "      <th>count</th>\n",
       "    </tr>\n",
       "    <tr>\n",
       "      <th>name</th>\n",
       "      <th></th>\n",
       "    </tr>\n",
       "  </thead>\n",
       "  <tbody>\n",
       "    <tr>\n",
       "      <th>Mary</th>\n",
       "      <td>4125675</td>\n",
       "    </tr>\n",
       "    <tr>\n",
       "      <th>Elizabeth</th>\n",
       "      <td>1638349</td>\n",
       "    </tr>\n",
       "    <tr>\n",
       "      <th>Patricia</th>\n",
       "      <td>1572016</td>\n",
       "    </tr>\n",
       "    <tr>\n",
       "      <th>Jennifer</th>\n",
       "      <td>1467207</td>\n",
       "    </tr>\n",
       "    <tr>\n",
       "      <th>Linda</th>\n",
       "      <td>1452668</td>\n",
       "    </tr>\n",
       "    <tr>\n",
       "      <th>Barbara</th>\n",
       "      <td>1434397</td>\n",
       "    </tr>\n",
       "    <tr>\n",
       "      <th>Margaret</th>\n",
       "      <td>1248985</td>\n",
       "    </tr>\n",
       "    <tr>\n",
       "      <th>Susan</th>\n",
       "      <td>1121703</td>\n",
       "    </tr>\n",
       "    <tr>\n",
       "      <th>Dorothy</th>\n",
       "      <td>1107635</td>\n",
       "    </tr>\n",
       "    <tr>\n",
       "      <th>Sarah</th>\n",
       "      <td>1077746</td>\n",
       "    </tr>\n",
       "  </tbody>\n",
       "</table>\n",
       "</div>"
      ],
      "text/plain": [
       "             count\n",
       "name              \n",
       "Mary       4125675\n",
       "Elizabeth  1638349\n",
       "Patricia   1572016\n",
       "Jennifer   1467207\n",
       "Linda      1452668\n",
       "Barbara    1434397\n",
       "Margaret   1248985\n",
       "Susan      1121703\n",
       "Dorothy    1107635\n",
       "Sarah      1077746"
      ]
     },
     "execution_count": 20,
     "metadata": {},
     "output_type": "execute_result"
    }
   ],
   "source": [
    "# Female names\n",
    "female_top_10 = baby_names[baby_names[\"gender\"] == \"F\"]\n",
    "female_top_10 = female_top_10[[\"name\",\"count\"]].groupby(\"name\").sum()\n",
    "female_top_10.sort_values(\"count\",ascending=False).head(10)"
   ]
  },
  {
   "cell_type": "code",
   "execution_count": 36,
   "id": "a7a5b9ab",
   "metadata": {},
   "outputs": [
    {
     "data": {
      "text/html": [
       "<div>\n",
       "<style scoped>\n",
       "    .dataframe tbody tr th:only-of-type {\n",
       "        vertical-align: middle;\n",
       "    }\n",
       "\n",
       "    .dataframe tbody tr th {\n",
       "        vertical-align: top;\n",
       "    }\n",
       "\n",
       "    .dataframe thead th {\n",
       "        text-align: right;\n",
       "    }\n",
       "</style>\n",
       "<table border=\"1\" class=\"dataframe\">\n",
       "  <thead>\n",
       "    <tr style=\"text-align: right;\">\n",
       "      <th></th>\n",
       "      <th>count</th>\n",
       "    </tr>\n",
       "    <tr>\n",
       "      <th>name</th>\n",
       "      <th></th>\n",
       "    </tr>\n",
       "  </thead>\n",
       "  <tbody>\n",
       "    <tr>\n",
       "      <th>James</th>\n",
       "      <td>5187679</td>\n",
       "    </tr>\n",
       "    <tr>\n",
       "      <th>John</th>\n",
       "      <td>5146508</td>\n",
       "    </tr>\n",
       "    <tr>\n",
       "      <th>Robert</th>\n",
       "      <td>4840228</td>\n",
       "    </tr>\n",
       "    <tr>\n",
       "      <th>Michael</th>\n",
       "      <td>4384463</td>\n",
       "    </tr>\n",
       "    <tr>\n",
       "      <th>Mary</th>\n",
       "      <td>4140840</td>\n",
       "    </tr>\n",
       "    <tr>\n",
       "      <th>William</th>\n",
       "      <td>4133327</td>\n",
       "    </tr>\n",
       "    <tr>\n",
       "      <th>David</th>\n",
       "      <td>3634229</td>\n",
       "    </tr>\n",
       "    <tr>\n",
       "      <th>Joseph</th>\n",
       "      <td>2623958</td>\n",
       "    </tr>\n",
       "    <tr>\n",
       "      <th>Richard</th>\n",
       "      <td>2574832</td>\n",
       "    </tr>\n",
       "    <tr>\n",
       "      <th>Charles</th>\n",
       "      <td>2405197</td>\n",
       "    </tr>\n",
       "  </tbody>\n",
       "</table>\n",
       "</div>"
      ],
      "text/plain": [
       "           count\n",
       "name            \n",
       "James    5187679\n",
       "John     5146508\n",
       "Robert   4840228\n",
       "Michael  4384463\n",
       "Mary     4140840\n",
       "William  4133327\n",
       "David    3634229\n",
       "Joseph   2623958\n",
       "Richard  2574832\n",
       "Charles  2405197"
      ]
     },
     "execution_count": 36,
     "metadata": {},
     "output_type": "execute_result"
    }
   ],
   "source": [
    "# Top 10 names regardless genders\n",
    "both_top_10 = baby_names[[\"name\",\"count\"]].groupby(\"name\").sum()\n",
    "both_top_10.sort_values(\"count\",ascending=False).head(10)"
   ]
  },
  {
   "cell_type": "code",
   "execution_count": 22,
   "id": "a03624ac",
   "metadata": {},
   "outputs": [],
   "source": [
    "# count by year\n",
    "both_df = baby_names.groupby(\"year\").sum()\n",
    "male_df = baby_names[baby_names[\"gender\"] == \"M\"].groupby(\"year\").sum()\n",
    "female_df = baby_names[baby_names[\"gender\"] == \"F\"].groupby(\"year\").sum()"
   ]
  },
  {
   "cell_type": "code",
   "execution_count": 31,
   "id": "84f7970d",
   "metadata": {},
   "outputs": [
    {
     "data": {
      "image/png": "[encoded data removed]",
      "text/plain": [
       "<Figure size 432x288 with 1 Axes>"
      ]
     },
     "metadata": {
      "needs_background": "light"
     },
     "output_type": "display_data"
    }
   ],
   "source": [
    "plt.plot(both_df, label=\"Both\", color=\"red\")\n",
    "plt.plot(male_df, label=\"Male\", color=\"blue\")\n",
    "plt.plot(female_df, label=\"Female\", color=\"orange\")\n",
    "\n",
    "yticks_labels = [\"{:,}\".format(i) for i in range(0, 4500000+1, 500000)]\n",
    "plt.yticks(np.arange(0, 4500000+1, 500000), yticks_labels)\n",
    "\n",
    "plt.legend()\n",
    "plt.grid(False)\n",
    "plt.xlabel(\"Year\")\n",
    "plt.ylabel(\"Records Count\")\n",
    "plt.title(\"Records per Year\")\n",
    "plt.show()"
   ]
  }
 ],
 "metadata": {
  "kernelspec": {
   "display_name": "Python 3 (ipykernel)",
   "language": "python",
   "name": "python3"
  },
  "language_info": {
   "codemirror_mode": {
    "name": "ipython",
    "version": 3
   },
   "file_extension": ".py",
   "mimetype": "text/x-python",
   "name": "python",
   "nbconvert_exporter": "python",
   "pygments_lexer": "ipython3",
   "version": "3.7.4"
  },
  "toc": {
   "base_numbering": 1,
   "nav_menu": {},
   "number_sections": true,
   "sideBar": true,
   "skip_h1_title": false,
   "title_cell": "Table of Contents",
   "title_sidebar": "Contents",
   "toc_cell": false,
   "toc_position": {},
   "toc_section_display": true,
   "toc_window_display": false
  }
 },
 "nbformat": 4,
 "nbformat_minor": 5
}
