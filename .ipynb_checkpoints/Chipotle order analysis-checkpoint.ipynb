{
 "cells": [
  {
   "cell_type": "markdown",
   "id": "666cc83e",
   "metadata": {},
   "source": [
    "Q1. Top 10 menus?  \n",
    "Q2. How many orders per item?  \n",
    "Q3. Prices of menu?  "
   ]
  },
  {
   "cell_type": "markdown",
   "id": "26a488bf",
   "metadata": {},
   "source": [
    "# Load and explore data"
   ]
  },
  {
   "cell_type": "code",
   "execution_count": 1,
   "id": "baeedf15",
   "metadata": {},
   "outputs": [
    {
     "name": "stdout",
     "output_type": "stream",
     "text": [
      "(4622, 5)\n",
      "<class 'pandas.core.frame.DataFrame'>\n",
      "RangeIndex: 4622 entries, 0 to 4621\n",
      "Data columns (total 5 columns):\n",
      " #   Column              Non-Null Count  Dtype \n",
      "---  ------              --------------  ----- \n",
      " 0   order_id            4622 non-null   int64 \n",
      " 1   quantity            4622 non-null   int64 \n",
      " 2   item_name           4622 non-null   object\n",
      " 3   choice_description  3376 non-null   object\n",
      " 4   item_price          4622 non-null   object\n",
      "dtypes: int64(2), object(3)\n",
      "memory usage: 180.7+ KB\n",
      "None\n"
     ]
    }
   ],
   "source": [
    "import pandas as pd\n",
    "\n",
    "chipo = pd.read_csv('chipotle.tsv', sep = '\\t')\n",
    "print(chipo.shape)\n",
    "print(chipo.info())"
   ]
  },
  {
   "cell_type": "code",
   "execution_count": 2,
   "id": "bb85b3ce",
   "metadata": {},
   "outputs": [
    {
     "data": {
      "text/html": [
       "<div>\n",
       "<style scoped>\n",
       "    .dataframe tbody tr th:only-of-type {\n",
       "        vertical-align: middle;\n",
       "    }\n",
       "\n",
       "    .dataframe tbody tr th {\n",
       "        vertical-align: top;\n",
       "    }\n",
       "\n",
       "    .dataframe thead th {\n",
       "        text-align: right;\n",
       "    }\n",
       "</style>\n",
       "<table border=\"1\" class=\"dataframe\">\n",
       "  <thead>\n",
       "    <tr style=\"text-align: right;\">\n",
       "      <th></th>\n",
       "      <th>order_id</th>\n",
       "      <th>quantity</th>\n",
       "      <th>item_name</th>\n",
       "      <th>choice_description</th>\n",
       "      <th>item_price</th>\n",
       "    </tr>\n",
       "  </thead>\n",
       "  <tbody>\n",
       "    <tr>\n",
       "      <th>0</th>\n",
       "      <td>1</td>\n",
       "      <td>1</td>\n",
       "      <td>Chips and Fresh Tomato Salsa</td>\n",
       "      <td>NaN</td>\n",
       "      <td>$2.39</td>\n",
       "    </tr>\n",
       "    <tr>\n",
       "      <th>1</th>\n",
       "      <td>1</td>\n",
       "      <td>1</td>\n",
       "      <td>Izze</td>\n",
       "      <td>[Clementine]</td>\n",
       "      <td>$3.39</td>\n",
       "    </tr>\n",
       "    <tr>\n",
       "      <th>2</th>\n",
       "      <td>1</td>\n",
       "      <td>1</td>\n",
       "      <td>Nantucket Nectar</td>\n",
       "      <td>[Apple]</td>\n",
       "      <td>$3.39</td>\n",
       "    </tr>\n",
       "    <tr>\n",
       "      <th>3</th>\n",
       "      <td>1</td>\n",
       "      <td>1</td>\n",
       "      <td>Chips and Tomatillo-Green Chili Salsa</td>\n",
       "      <td>NaN</td>\n",
       "      <td>$2.39</td>\n",
       "    </tr>\n",
       "    <tr>\n",
       "      <th>4</th>\n",
       "      <td>2</td>\n",
       "      <td>2</td>\n",
       "      <td>Chicken Bowl</td>\n",
       "      <td>[Tomatillo-Red Chili Salsa (Hot), [Black Beans...</td>\n",
       "      <td>$16.98</td>\n",
       "    </tr>\n",
       "  </tbody>\n",
       "</table>\n",
       "</div>"
      ],
      "text/plain": [
       "   order_id  quantity                              item_name  \\\n",
       "0         1         1           Chips and Fresh Tomato Salsa   \n",
       "1         1         1                                   Izze   \n",
       "2         1         1                       Nantucket Nectar   \n",
       "3         1         1  Chips and Tomatillo-Green Chili Salsa   \n",
       "4         2         2                           Chicken Bowl   \n",
       "\n",
       "                                  choice_description item_price  \n",
       "0                                                NaN     $2.39   \n",
       "1                                       [Clementine]     $3.39   \n",
       "2                                            [Apple]     $3.39   \n",
       "3                                                NaN     $2.39   \n",
       "4  [Tomatillo-Red Chili Salsa (Hot), [Black Beans...    $16.98   "
      ]
     },
     "execution_count": 2,
     "metadata": {},
     "output_type": "execute_result"
    }
   ],
   "source": [
    "chipo.head()"
   ]
  },
  {
   "cell_type": "code",
   "execution_count": 3,
   "id": "4075f4e8",
   "metadata": {},
   "outputs": [
    {
     "name": "stdout",
     "output_type": "stream",
     "text": [
      "Index(['order_id', 'quantity', 'item_name', 'choice_description',\n",
      "       'item_price'],\n",
      "      dtype='object')\n",
      "RangeIndex(start=0, stop=4622, step=1)\n"
     ]
    }
   ],
   "source": [
    "print(chipo.columns)\n",
    "print(chipo.index)"
   ]
  },
  {
   "cell_type": "code",
   "execution_count": 4,
   "id": "eb460c0f",
   "metadata": {},
   "outputs": [
    {
     "name": "stdout",
     "output_type": "stream",
     "text": [
      "          quantity\n",
      "count  4622.000000\n",
      "mean      1.075725\n",
      "std       0.410186\n",
      "min       1.000000\n",
      "25%       1.000000\n",
      "50%       1.000000\n",
      "75%       1.000000\n",
      "max      15.000000\n"
     ]
    }
   ],
   "source": [
    "chipo['order_id'] = chipo['order_id'].astype(str)\n",
    "print(chipo.describe())"
   ]
  },
  {
   "cell_type": "markdown",
   "id": "90e799e1",
   "metadata": {},
   "source": [
    "mean = 1.07 ==> Most people ordered 1 menu per order"
   ]
  },
  {
   "cell_type": "code",
   "execution_count": 6,
   "id": "42529ec4",
   "metadata": {},
   "outputs": [
    {
     "name": "stdout",
     "output_type": "stream",
     "text": [
      "1834\n",
      "50\n"
     ]
    }
   ],
   "source": [
    "print(len(chipo['order_id'].unique()))    # number of unique order\n",
    "print(len(chipo['item_name'].unique()))   # number of unique item name"
   ]
  },
  {
   "cell_type": "markdown",
   "id": "6cd46a92",
   "metadata": {},
   "source": [
    "# Top most popular items"
   ]
  },
  {
   "cell_type": "code",
   "execution_count": 7,
   "id": "23c308b5",
   "metadata": {},
   "outputs": [
    {
     "name": "stdout",
     "output_type": "stream",
     "text": [
      "Top 1 : Chicken Bowl 726\n",
      "Top 2 : Chicken Burrito 553\n",
      "Top 3 : Chips and Guacamole 479\n",
      "Top 4 : Steak Burrito 368\n",
      "Top 5 : Canned Soft Drink 301\n",
      "Top 6 : Steak Bowl 211\n",
      "Top 7 : Chips 211\n",
      "Top 8 : Bottled Water 162\n",
      "Top 9 : Chicken Soft Tacos 115\n",
      "Top 10 : Chips and Fresh Tomato Salsa 110\n"
     ]
    }
   ],
   "source": [
    "item_count = chipo['item_name'].value_counts()[:10]\n",
    "for idx, (val, cnt) in enumerate(item_count.iteritems(),1):\n",
    "    print('Top', idx, \":\", val, cnt)"
   ]
  },
  {
   "cell_type": "markdown",
   "id": "a0a16a24",
   "metadata": {},
   "source": [
    "# The number of orders per item and total quantity"
   ]
  },
  {
   "cell_type": "code",
   "execution_count": 8,
   "id": "3c86615d",
   "metadata": {},
   "outputs": [
    {
     "data": {
      "text/plain": [
       "item_name\n",
       "6 Pack Soft Drink         54\n",
       "Barbacoa Bowl             66\n",
       "Barbacoa Burrito          91\n",
       "Barbacoa Crispy Tacos     11\n",
       "Barbacoa Salad Bowl       10\n",
       "Barbacoa Soft Tacos       25\n",
       "Bottled Water            162\n",
       "Bowl                       2\n",
       "Burrito                    6\n",
       "Canned Soda              104\n",
       "Name: order_id, dtype: int64"
      ]
     },
     "execution_count": 8,
     "metadata": {},
     "output_type": "execute_result"
    }
   ],
   "source": [
    "order_count = chipo.groupby('item_name')['order_id'].count()\n",
    "order_count[:10]"
   ]
  },
  {
   "cell_type": "code",
   "execution_count": 9,
   "id": "74b0dabc",
   "metadata": {},
   "outputs": [
    {
     "data": {
      "text/plain": [
       "item_name\n",
       "6 Pack Soft Drink         55\n",
       "Barbacoa Bowl             66\n",
       "Barbacoa Burrito          91\n",
       "Barbacoa Crispy Tacos     12\n",
       "Barbacoa Salad Bowl       10\n",
       "Barbacoa Soft Tacos       25\n",
       "Bottled Water            211\n",
       "Bowl                       4\n",
       "Burrito                    6\n",
       "Canned Soda              126\n",
       "Name: quantity, dtype: int64"
      ]
     },
     "execution_count": 9,
     "metadata": {},
     "output_type": "execute_result"
    }
   ],
   "source": [
    "item_quantity = chipo.groupby('item_name')['quantity'].sum()\n",
    "item_quantity[:10]"
   ]
  },
  {
   "cell_type": "markdown",
   "id": "08760ffd",
   "metadata": {},
   "source": [
    "# Visualization"
   ]
  },
  {
   "cell_type": "code",
   "execution_count": 10,
   "id": "56f77039",
   "metadata": {},
   "outputs": [
    {
     "data": {
      "image/png": "[encoded data removed]",
      "text/plain": [
       "<Figure size 432x288 with 1 Axes>"
      ]
     },
     "metadata": {
      "needs_background": "light"
     },
     "output_type": "display_data"
    }
   ],
   "source": [
    "%matplotlib inline\n",
    "import numpy as np\n",
    "import matplotlib.pyplot as plt\n",
    "\n",
    "item_name_list = item_quantity.index.tolist()\n",
    "x_pos = np.arange(len(item_name_list))\n",
    "order_cnt = item_quantity.values.tolist()\n",
    "\n",
    "plt.bar(x_pos, order_cnt, align='center')\n",
    "plt.ylabel('ordered_item_count')\n",
    "plt.title('Distribution of all ordered item')\n",
    "plt.show()"
   ]
  },
  {
   "cell_type": "markdown",
   "id": "b7611820",
   "metadata": {},
   "source": [
    "# Preprocessing"
   ]
  },
  {
   "cell_type": "code",
   "execution_count": 11,
   "id": "6d21b639",
   "metadata": {},
   "outputs": [
    {
     "name": "stdout",
     "output_type": "stream",
     "text": [
      "<class 'pandas.core.frame.DataFrame'>\n",
      "RangeIndex: 4622 entries, 0 to 4621\n",
      "Data columns (total 5 columns):\n",
      " #   Column              Non-Null Count  Dtype \n",
      "---  ------              --------------  ----- \n",
      " 0   order_id            4622 non-null   object\n",
      " 1   quantity            4622 non-null   int64 \n",
      " 2   item_name           4622 non-null   object\n",
      " 3   choice_description  3376 non-null   object\n",
      " 4   item_price          4622 non-null   object\n",
      "dtypes: int64(1), object(4)\n",
      "memory usage: 180.7+ KB\n",
      "None\n"
     ]
    },
    {
     "data": {
      "text/plain": [
       "0     $2.39 \n",
       "1     $3.39 \n",
       "2     $3.39 \n",
       "3     $2.39 \n",
       "4    $16.98 \n",
       "Name: item_price, dtype: object"
      ]
     },
     "execution_count": 11,
     "metadata": {},
     "output_type": "execute_result"
    }
   ],
   "source": [
    "print(chipo.info())\n",
    "chipo['item_price'].head()"
   ]
  },
  {
   "cell_type": "code",
   "execution_count": 12,
   "id": "78f7c360",
   "metadata": {},
   "outputs": [
    {
     "data": {
      "text/html": [
       "<div>\n",
       "<style scoped>\n",
       "    .dataframe tbody tr th:only-of-type {\n",
       "        vertical-align: middle;\n",
       "    }\n",
       "\n",
       "    .dataframe tbody tr th {\n",
       "        vertical-align: top;\n",
       "    }\n",
       "\n",
       "    .dataframe thead th {\n",
       "        text-align: right;\n",
       "    }\n",
       "</style>\n",
       "<table border=\"1\" class=\"dataframe\">\n",
       "  <thead>\n",
       "    <tr style=\"text-align: right;\">\n",
       "      <th></th>\n",
       "      <th>quantity</th>\n",
       "      <th>item_price</th>\n",
       "    </tr>\n",
       "  </thead>\n",
       "  <tbody>\n",
       "    <tr>\n",
       "      <th>count</th>\n",
       "      <td>4622.000000</td>\n",
       "      <td>4622.000000</td>\n",
       "    </tr>\n",
       "    <tr>\n",
       "      <th>mean</th>\n",
       "      <td>1.075725</td>\n",
       "      <td>7.464336</td>\n",
       "    </tr>\n",
       "    <tr>\n",
       "      <th>std</th>\n",
       "      <td>0.410186</td>\n",
       "      <td>4.245557</td>\n",
       "    </tr>\n",
       "    <tr>\n",
       "      <th>min</th>\n",
       "      <td>1.000000</td>\n",
       "      <td>1.090000</td>\n",
       "    </tr>\n",
       "    <tr>\n",
       "      <th>25%</th>\n",
       "      <td>1.000000</td>\n",
       "      <td>3.390000</td>\n",
       "    </tr>\n",
       "    <tr>\n",
       "      <th>50%</th>\n",
       "      <td>1.000000</td>\n",
       "      <td>8.750000</td>\n",
       "    </tr>\n",
       "    <tr>\n",
       "      <th>75%</th>\n",
       "      <td>1.000000</td>\n",
       "      <td>9.250000</td>\n",
       "    </tr>\n",
       "    <tr>\n",
       "      <th>max</th>\n",
       "      <td>15.000000</td>\n",
       "      <td>44.250000</td>\n",
       "    </tr>\n",
       "  </tbody>\n",
       "</table>\n",
       "</div>"
      ],
      "text/plain": [
       "          quantity   item_price\n",
       "count  4622.000000  4622.000000\n",
       "mean      1.075725     7.464336\n",
       "std       0.410186     4.245557\n",
       "min       1.000000     1.090000\n",
       "25%       1.000000     3.390000\n",
       "50%       1.000000     8.750000\n",
       "75%       1.000000     9.250000\n",
       "max      15.000000    44.250000"
      ]
     },
     "execution_count": 12,
     "metadata": {},
     "output_type": "execute_result"
    }
   ],
   "source": [
    "chipo['item_price'] = chipo['item_price'].apply(lambda x: float(x[1:]))\n",
    "chipo.describe()"
   ]
  },
  {
   "cell_type": "markdown",
   "id": "68e89a58",
   "metadata": {},
   "source": [
    "# Average prices per order"
   ]
  },
  {
   "cell_type": "code",
   "execution_count": 13,
   "id": "1839808f",
   "metadata": {},
   "outputs": [
    {
     "data": {
      "text/plain": [
       "18.811428571428568"
      ]
     },
     "execution_count": 13,
     "metadata": {},
     "output_type": "execute_result"
    }
   ],
   "source": [
    "chipo.groupby('order_id')['item_price'].sum().mean()"
   ]
  },
  {
   "cell_type": "code",
   "execution_count": 14,
   "id": "2e906de1",
   "metadata": {},
   "outputs": [
    {
     "name": "stdout",
     "output_type": "stream",
     "text": [
      "          quantity  item_price\n",
      "order_id                      \n",
      "1                4       11.56\n",
      "10               2       13.20\n",
      "100              2       10.08\n",
      "1000             2       20.50\n",
      "1001             2       10.08\n",
      "1002             2       10.68\n",
      "1003             2       13.00\n",
      "1004             2       21.96\n",
      "1005             3       12.15\n",
      "1006             8       71.40\n",
      "['1' '10' '100' ... '997' '998' '999']\n"
     ]
    }
   ],
   "source": [
    "chipo_orderid_group = chipo.groupby('order_id').sum()\n",
    "results = chipo_orderid_group[chipo_orderid_group.item_price >= 10]\n",
    "print(results[:10])\n",
    "print(results.index.values)"
   ]
  },
  {
   "cell_type": "code",
   "execution_count": 15,
   "id": "1f317809",
   "metadata": {},
   "outputs": [
    {
     "data": {
      "text/html": [
       "<div>\n",
       "<style scoped>\n",
       "    .dataframe tbody tr th:only-of-type {\n",
       "        vertical-align: middle;\n",
       "    }\n",
       "\n",
       "    .dataframe tbody tr th {\n",
       "        vertical-align: top;\n",
       "    }\n",
       "\n",
       "    .dataframe thead th {\n",
       "        text-align: right;\n",
       "    }\n",
       "</style>\n",
       "<table border=\"1\" class=\"dataframe\">\n",
       "  <thead>\n",
       "    <tr style=\"text-align: right;\">\n",
       "      <th></th>\n",
       "      <th>order_id</th>\n",
       "      <th>quantity</th>\n",
       "      <th>choice_description</th>\n",
       "      <th>item_price</th>\n",
       "    </tr>\n",
       "    <tr>\n",
       "      <th>item_name</th>\n",
       "      <th></th>\n",
       "      <th></th>\n",
       "      <th></th>\n",
       "      <th></th>\n",
       "    </tr>\n",
       "  </thead>\n",
       "  <tbody>\n",
       "    <tr>\n",
       "      <th>Steak Salad Bowl</th>\n",
       "      <td>1032</td>\n",
       "      <td>1</td>\n",
       "      <td>[Fresh Tomato Salsa, Lettuce]</td>\n",
       "      <td>9.39</td>\n",
       "    </tr>\n",
       "    <tr>\n",
       "      <th>Barbacoa Salad Bowl</th>\n",
       "      <td>1283</td>\n",
       "      <td>1</td>\n",
       "      <td>[Fresh Tomato Salsa, Guacamole]</td>\n",
       "      <td>9.39</td>\n",
       "    </tr>\n",
       "    <tr>\n",
       "      <th>Carnitas Salad Bowl</th>\n",
       "      <td>1035</td>\n",
       "      <td>1</td>\n",
       "      <td>[Fresh Tomato Salsa, [Rice, Black Beans, Chees...</td>\n",
       "      <td>9.39</td>\n",
       "    </tr>\n",
       "    <tr>\n",
       "      <th>Carnitas Soft Tacos</th>\n",
       "      <td>1011</td>\n",
       "      <td>1</td>\n",
       "      <td>[Fresh Tomato Salsa (Mild), [Black Beans, Rice...</td>\n",
       "      <td>8.99</td>\n",
       "    </tr>\n",
       "    <tr>\n",
       "      <th>Carnitas Crispy Tacos</th>\n",
       "      <td>1774</td>\n",
       "      <td>1</td>\n",
       "      <td>[Fresh Tomato Salsa, [Fajita Vegetables, Rice,...</td>\n",
       "      <td>8.99</td>\n",
       "    </tr>\n",
       "    <tr>\n",
       "      <th>Steak Soft Tacos</th>\n",
       "      <td>1054</td>\n",
       "      <td>1</td>\n",
       "      <td>[Fresh Tomato Salsa (Mild), [Cheese, Sour Cream]]</td>\n",
       "      <td>8.99</td>\n",
       "    </tr>\n",
       "    <tr>\n",
       "      <th>Carnitas Salad</th>\n",
       "      <td>1500</td>\n",
       "      <td>1</td>\n",
       "      <td>[[Fresh Tomato Salsa (Mild), Roasted Chili Cor...</td>\n",
       "      <td>8.99</td>\n",
       "    </tr>\n",
       "    <tr>\n",
       "      <th>Carnitas Bowl</th>\n",
       "      <td>1007</td>\n",
       "      <td>1</td>\n",
       "      <td>[Fresh Tomato (Mild), [Guacamole, Lettuce, Ric...</td>\n",
       "      <td>8.99</td>\n",
       "    </tr>\n",
       "    <tr>\n",
       "      <th>Barbacoa Soft Tacos</th>\n",
       "      <td>1103</td>\n",
       "      <td>1</td>\n",
       "      <td>[Fresh Tomato Salsa, [Black Beans, Cheese, Let...</td>\n",
       "      <td>8.99</td>\n",
       "    </tr>\n",
       "    <tr>\n",
       "      <th>Barbacoa Crispy Tacos</th>\n",
       "      <td>110</td>\n",
       "      <td>1</td>\n",
       "      <td>[Fresh Tomato Salsa, Guacamole]</td>\n",
       "      <td>8.99</td>\n",
       "    </tr>\n",
       "  </tbody>\n",
       "</table>\n",
       "</div>"
      ],
      "text/plain": [
       "                      order_id  quantity  \\\n",
       "item_name                                  \n",
       "Steak Salad Bowl          1032         1   \n",
       "Barbacoa Salad Bowl       1283         1   \n",
       "Carnitas Salad Bowl       1035         1   \n",
       "Carnitas Soft Tacos       1011         1   \n",
       "Carnitas Crispy Tacos     1774         1   \n",
       "Steak Soft Tacos          1054         1   \n",
       "Carnitas Salad            1500         1   \n",
       "Carnitas Bowl             1007         1   \n",
       "Barbacoa Soft Tacos       1103         1   \n",
       "Barbacoa Crispy Tacos      110         1   \n",
       "\n",
       "                                                      choice_description  \\\n",
       "item_name                                                                  \n",
       "Steak Salad Bowl                           [Fresh Tomato Salsa, Lettuce]   \n",
       "Barbacoa Salad Bowl                      [Fresh Tomato Salsa, Guacamole]   \n",
       "Carnitas Salad Bowl    [Fresh Tomato Salsa, [Rice, Black Beans, Chees...   \n",
       "Carnitas Soft Tacos    [Fresh Tomato Salsa (Mild), [Black Beans, Rice...   \n",
       "Carnitas Crispy Tacos  [Fresh Tomato Salsa, [Fajita Vegetables, Rice,...   \n",
       "Steak Soft Tacos       [Fresh Tomato Salsa (Mild), [Cheese, Sour Cream]]   \n",
       "Carnitas Salad         [[Fresh Tomato Salsa (Mild), Roasted Chili Cor...   \n",
       "Carnitas Bowl          [Fresh Tomato (Mild), [Guacamole, Lettuce, Ric...   \n",
       "Barbacoa Soft Tacos    [Fresh Tomato Salsa, [Black Beans, Cheese, Let...   \n",
       "Barbacoa Crispy Tacos                    [Fresh Tomato Salsa, Guacamole]   \n",
       "\n",
       "                       item_price  \n",
       "item_name                          \n",
       "Steak Salad Bowl             9.39  \n",
       "Barbacoa Salad Bowl          9.39  \n",
       "Carnitas Salad Bowl          9.39  \n",
       "Carnitas Soft Tacos          8.99  \n",
       "Carnitas Crispy Tacos        8.99  \n",
       "Steak Soft Tacos             8.99  \n",
       "Carnitas Salad               8.99  \n",
       "Carnitas Bowl                8.99  \n",
       "Barbacoa Soft Tacos          8.99  \n",
       "Barbacoa Crispy Tacos        8.99  "
      ]
     },
     "execution_count": 15,
     "metadata": {},
     "output_type": "execute_result"
    }
   ],
   "source": [
    "# item price\n",
    "chipo_one_item = chipo[chipo.quantity == 1]\n",
    "price_per_item = chipo_one_item.groupby('item_name').min()\n",
    "price_per_item.sort_values(by=\"item_price\", ascending=False)[:10]"
   ]
  },
  {
   "cell_type": "code",
   "execution_count": 16,
   "id": "69ee9865",
   "metadata": {},
   "outputs": [],
   "source": [
    "item_name_list = price_per_item.index.tolist()\n",
    "x_pos = np.arange(len(item_name_list))\n",
    "item_price = price_per_item['item_price'].tolist()"
   ]
  },
  {
   "cell_type": "code",
   "execution_count": 18,
   "id": "c67a2f46",
   "metadata": {},
   "outputs": [
    {
     "data": {
      "image/png": "[encoded data removed]",
      "text/plain": [
       "<Figure size 432x288 with 1 Axes>"
      ]
     },
     "metadata": {
      "needs_background": "light"
     },
     "output_type": "display_data"
    },
    {
     "data": {
      "image/png": "[encoded data removed]",
      "text/plain": [
       "<Figure size 432x288 with 1 Axes>"
      ]
     },
     "metadata": {
      "needs_background": "light"
     },
     "output_type": "display_data"
    }
   ],
   "source": [
    "plt.bar(x_pos, item_price, align='center')\n",
    "plt.ylabel('item price($)')\n",
    "plt.title('Distribution of item price')\n",
    "plt.show()\n",
    "\n",
    "plt.hist(item_price)\n",
    "plt.ylabel('counts')\n",
    "plt.title('Histogram of item price')\n",
    "plt.show()"
   ]
  },
  {
   "cell_type": "markdown",
   "id": "e2d8e346",
   "metadata": {},
   "source": [
    "# The number of items sold sort by item price"
   ]
  },
  {
   "cell_type": "code",
   "execution_count": 19,
   "id": "4accc8f1",
   "metadata": {},
   "outputs": [
    {
     "data": {
      "text/html": [
       "<div>\n",
       "<style scoped>\n",
       "    .dataframe tbody tr th:only-of-type {\n",
       "        vertical-align: middle;\n",
       "    }\n",
       "\n",
       "    .dataframe tbody tr th {\n",
       "        vertical-align: top;\n",
       "    }\n",
       "\n",
       "    .dataframe thead th {\n",
       "        text-align: right;\n",
       "    }\n",
       "</style>\n",
       "<table border=\"1\" class=\"dataframe\">\n",
       "  <thead>\n",
       "    <tr style=\"text-align: right;\">\n",
       "      <th></th>\n",
       "      <th>quantity</th>\n",
       "      <th>item_price</th>\n",
       "    </tr>\n",
       "    <tr>\n",
       "      <th>order_id</th>\n",
       "      <th></th>\n",
       "      <th></th>\n",
       "    </tr>\n",
       "  </thead>\n",
       "  <tbody>\n",
       "    <tr>\n",
       "      <th>926</th>\n",
       "      <td>23</td>\n",
       "      <td>205.25</td>\n",
       "    </tr>\n",
       "    <tr>\n",
       "      <th>1443</th>\n",
       "      <td>35</td>\n",
       "      <td>160.74</td>\n",
       "    </tr>\n",
       "    <tr>\n",
       "      <th>1483</th>\n",
       "      <td>14</td>\n",
       "      <td>139.00</td>\n",
       "    </tr>\n",
       "    <tr>\n",
       "      <th>691</th>\n",
       "      <td>11</td>\n",
       "      <td>118.25</td>\n",
       "    </tr>\n",
       "    <tr>\n",
       "      <th>1786</th>\n",
       "      <td>20</td>\n",
       "      <td>114.30</td>\n",
       "    </tr>\n",
       "  </tbody>\n",
       "</table>\n",
       "</div>"
      ],
      "text/plain": [
       "          quantity  item_price\n",
       "order_id                      \n",
       "926             23      205.25\n",
       "1443            35      160.74\n",
       "1483            14      139.00\n",
       "691             11      118.25\n",
       "1786            20      114.30"
      ]
     },
     "execution_count": 19,
     "metadata": {},
     "output_type": "execute_result"
    }
   ],
   "source": [
    "chipo.groupby('order_id').sum().sort_values(by='item_price', ascending=False)[:5]"
   ]
  },
  {
   "cell_type": "markdown",
   "id": "490c6515",
   "metadata": {},
   "source": [
    "# The number of veggie salad bowl sold"
   ]
  },
  {
   "cell_type": "code",
   "execution_count": 20,
   "id": "f20a9528",
   "metadata": {},
   "outputs": [
    {
     "name": "stdout",
     "output_type": "stream",
     "text": [
      "18\n"
     ]
    },
    {
     "data": {
      "text/html": [
       "<div>\n",
       "<style scoped>\n",
       "    .dataframe tbody tr th:only-of-type {\n",
       "        vertical-align: middle;\n",
       "    }\n",
       "\n",
       "    .dataframe tbody tr th {\n",
       "        vertical-align: top;\n",
       "    }\n",
       "\n",
       "    .dataframe thead th {\n",
       "        text-align: right;\n",
       "    }\n",
       "</style>\n",
       "<table border=\"1\" class=\"dataframe\">\n",
       "  <thead>\n",
       "    <tr style=\"text-align: right;\">\n",
       "      <th></th>\n",
       "      <th>order_id</th>\n",
       "      <th>quantity</th>\n",
       "      <th>item_name</th>\n",
       "      <th>choice_description</th>\n",
       "      <th>item_price</th>\n",
       "    </tr>\n",
       "  </thead>\n",
       "  <tbody>\n",
       "    <tr>\n",
       "      <th>186</th>\n",
       "      <td>83</td>\n",
       "      <td>1</td>\n",
       "      <td>Veggie Salad Bowl</td>\n",
       "      <td>[Fresh Tomato Salsa, [Fajita Vegetables, Rice,...</td>\n",
       "      <td>11.25</td>\n",
       "    </tr>\n",
       "    <tr>\n",
       "      <th>295</th>\n",
       "      <td>128</td>\n",
       "      <td>1</td>\n",
       "      <td>Veggie Salad Bowl</td>\n",
       "      <td>[Fresh Tomato Salsa, [Fajita Vegetables, Lettu...</td>\n",
       "      <td>11.25</td>\n",
       "    </tr>\n",
       "    <tr>\n",
       "      <th>455</th>\n",
       "      <td>195</td>\n",
       "      <td>1</td>\n",
       "      <td>Veggie Salad Bowl</td>\n",
       "      <td>[Fresh Tomato Salsa, [Fajita Vegetables, Rice,...</td>\n",
       "      <td>11.25</td>\n",
       "    </tr>\n",
       "    <tr>\n",
       "      <th>496</th>\n",
       "      <td>207</td>\n",
       "      <td>1</td>\n",
       "      <td>Veggie Salad Bowl</td>\n",
       "      <td>[Fresh Tomato Salsa, [Rice, Lettuce, Guacamole...</td>\n",
       "      <td>11.25</td>\n",
       "    </tr>\n",
       "    <tr>\n",
       "      <th>960</th>\n",
       "      <td>394</td>\n",
       "      <td>1</td>\n",
       "      <td>Veggie Salad Bowl</td>\n",
       "      <td>[Fresh Tomato Salsa, [Fajita Vegetables, Lettu...</td>\n",
       "      <td>8.75</td>\n",
       "    </tr>\n",
       "  </tbody>\n",
       "</table>\n",
       "</div>"
      ],
      "text/plain": [
       "    order_id  quantity          item_name  \\\n",
       "186       83         1  Veggie Salad Bowl   \n",
       "295      128         1  Veggie Salad Bowl   \n",
       "455      195         1  Veggie Salad Bowl   \n",
       "496      207         1  Veggie Salad Bowl   \n",
       "960      394         1  Veggie Salad Bowl   \n",
       "\n",
       "                                    choice_description  item_price  \n",
       "186  [Fresh Tomato Salsa, [Fajita Vegetables, Rice,...       11.25  \n",
       "295  [Fresh Tomato Salsa, [Fajita Vegetables, Lettu...       11.25  \n",
       "455  [Fresh Tomato Salsa, [Fajita Vegetables, Rice,...       11.25  \n",
       "496  [Fresh Tomato Salsa, [Rice, Lettuce, Guacamole...       11.25  \n",
       "960  [Fresh Tomato Salsa, [Fajita Vegetables, Lettu...        8.75  "
      ]
     },
     "execution_count": 20,
     "metadata": {},
     "output_type": "execute_result"
    }
   ],
   "source": [
    "chipo_salad = chipo[chipo['item_name']==\"Veggie Salad Bowl\"]\n",
    "\n",
    "# Remove redundant orders\n",
    "chipo_salad = chipo_salad.drop_duplicates(['item_name','order_id'])\n",
    "\n",
    "print(len(chipo_salad))\n",
    "chipo_salad.head(5)"
   ]
  },
  {
   "cell_type": "markdown",
   "id": "934c229d",
   "metadata": {},
   "source": [
    "# The number of orders that ordered more than 2 chicken bowl"
   ]
  },
  {
   "cell_type": "code",
   "execution_count": 21,
   "id": "3912905a",
   "metadata": {},
   "outputs": [
    {
     "name": "stdout",
     "output_type": "stream",
     "text": [
      "114\n"
     ]
    },
    {
     "data": {
      "text/plain": [
       "order_id\n",
       "1004    2\n",
       "1023    2\n",
       "1072    2\n",
       "1078    2\n",
       "1091    2\n",
       "Name: quantity, dtype: int64"
      ]
     },
     "execution_count": 21,
     "metadata": {},
     "output_type": "execute_result"
    }
   ],
   "source": [
    "chipo_chicken = chipo[chipo['item_name'] == \"Chicken Bowl\"]\n",
    "chipo_chicken_ordersum = chipo_chicken.groupby('order_id').sum()['quantity']\n",
    "chipo_chicken_result = chipo_chicken_ordersum[chipo_chicken_ordersum >= 2]\n",
    "\n",
    "print(len(chipo_chicken_result))\n",
    "chipo_chicken_result.head(5)"
   ]
  }
 ],
 "metadata": {
  "kernelspec": {
   "display_name": "Python 3 (ipykernel)",
   "language": "python",
   "name": "python3"
  },
  "language_info": {
   "codemirror_mode": {
    "name": "ipython",
    "version": 3
   },
   "file_extension": ".py",
   "mimetype": "text/x-python",
   "name": "python",
   "nbconvert_exporter": "python",
   "pygments_lexer": "ipython3",
   "version": "3.7.4"
  },
  "toc": {
   "base_numbering": 1,
   "nav_menu": {},
   "number_sections": true,
   "sideBar": true,
   "skip_h1_title": false,
   "title_cell": "Table of Contents",
   "title_sidebar": "Contents",
   "toc_cell": false,
   "toc_position": {},
   "toc_section_display": true,
   "toc_window_display": false
  }
 },
 "nbformat": 4,
 "nbformat_minor": 5
}
