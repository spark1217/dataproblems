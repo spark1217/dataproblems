{
 "cells": [
  {
   "cell_type": "markdown",
   "id": "c41fe4aa",
   "metadata": {},
   "source": [
    "# Filtering student information with Pandas\n",
    "Suppose you have a dataframe, df, with the following records:  \n",
    "\n",
    "| Age | Favorite color | Grade | Name             |\n",
    "|-----|----------------|-------|------------------|\n",
    "| 20  | blue           | 88    | Willard Morris   |\n",
    "| 19  | blue           | 95    | Al Jennings      |\n",
    "| 22  | yellow         | 92    | Omar Mullins     |\n",
    "| 21  | green          | 70    | Spencer McDaniel |\n",
    "\n",
    "The dataframe is showing information about students. Write code using Python Pandas to select the rows where the students' favorite color is green or yellow and their grade is between 85-95 (inclusive)."
   ]
  },
  {
   "cell_type": "markdown",
   "id": "2eb695de",
   "metadata": {},
   "source": [
    "## Create dataframe"
   ]
  },
  {
   "cell_type": "code",
   "execution_count": 8,
   "id": "7298bc1e",
   "metadata": {},
   "outputs": [
    {
     "data": {
      "text/html": [
       "<div>\n",
       "<style scoped>\n",
       "    .dataframe tbody tr th:only-of-type {\n",
       "        vertical-align: middle;\n",
       "    }\n",
       "\n",
       "    .dataframe tbody tr th {\n",
       "        vertical-align: top;\n",
       "    }\n",
       "\n",
       "    .dataframe thead th {\n",
       "        text-align: right;\n",
       "    }\n",
       "</style>\n",
       "<table border=\"1\" class=\"dataframe\">\n",
       "  <thead>\n",
       "    <tr style=\"text-align: right;\">\n",
       "      <th></th>\n",
       "      <th>Age</th>\n",
       "      <th>Favorite_color</th>\n",
       "      <th>Grade</th>\n",
       "      <th>Name</th>\n",
       "    </tr>\n",
       "  </thead>\n",
       "  <tbody>\n",
       "    <tr>\n",
       "      <th>0</th>\n",
       "      <td>20</td>\n",
       "      <td>blue</td>\n",
       "      <td>88</td>\n",
       "      <td>Willard Morris</td>\n",
       "    </tr>\n",
       "    <tr>\n",
       "      <th>1</th>\n",
       "      <td>19</td>\n",
       "      <td>blue</td>\n",
       "      <td>95</td>\n",
       "      <td>Al Jennings</td>\n",
       "    </tr>\n",
       "    <tr>\n",
       "      <th>2</th>\n",
       "      <td>22</td>\n",
       "      <td>yellow</td>\n",
       "      <td>92</td>\n",
       "      <td>Omar Mullins</td>\n",
       "    </tr>\n",
       "    <tr>\n",
       "      <th>3</th>\n",
       "      <td>21</td>\n",
       "      <td>green</td>\n",
       "      <td>70</td>\n",
       "      <td>Spencer McDaniel</td>\n",
       "    </tr>\n",
       "  </tbody>\n",
       "</table>\n",
       "</div>"
      ],
      "text/plain": [
       "   Age Favorite_color  Grade              Name\n",
       "0   20           blue     88    Willard Morris\n",
       "1   19           blue     95       Al Jennings\n",
       "2   22         yellow     92      Omar Mullins\n",
       "3   21          green     70  Spencer McDaniel"
      ]
     },
     "execution_count": 8,
     "metadata": {},
     "output_type": "execute_result"
    }
   ],
   "source": [
    "import pandas as pd\n",
    "student = {'Age':[20, 19, 22, 21], 'Favorite_color':['blue','blue','yellow','green'], \n",
    "           'Grade':[88,95,92,70], 'Name':['Willard Morris','Al Jennings','Omar Mullins','Spencer McDaniel']}\n",
    "df = pd.DataFrame(data=student)\n",
    "df"
   ]
  },
  {
   "cell_type": "markdown",
   "id": "3106594e",
   "metadata": {},
   "source": [
    "## Filtering students information"
   ]
  },
  {
   "cell_type": "code",
   "execution_count": 9,
   "id": "e0f8ad6b",
   "metadata": {},
   "outputs": [
    {
     "data": {
      "text/html": [
       "<div>\n",
       "<style scoped>\n",
       "    .dataframe tbody tr th:only-of-type {\n",
       "        vertical-align: middle;\n",
       "    }\n",
       "\n",
       "    .dataframe tbody tr th {\n",
       "        vertical-align: top;\n",
       "    }\n",
       "\n",
       "    .dataframe thead th {\n",
       "        text-align: right;\n",
       "    }\n",
       "</style>\n",
       "<table border=\"1\" class=\"dataframe\">\n",
       "  <thead>\n",
       "    <tr style=\"text-align: right;\">\n",
       "      <th></th>\n",
       "      <th>Age</th>\n",
       "      <th>Favorite_color</th>\n",
       "      <th>Grade</th>\n",
       "      <th>Name</th>\n",
       "    </tr>\n",
       "  </thead>\n",
       "  <tbody>\n",
       "    <tr>\n",
       "      <th>2</th>\n",
       "      <td>22</td>\n",
       "      <td>yellow</td>\n",
       "      <td>92</td>\n",
       "      <td>Omar Mullins</td>\n",
       "    </tr>\n",
       "  </tbody>\n",
       "</table>\n",
       "</div>"
      ],
      "text/plain": [
       "   Age Favorite_color  Grade          Name\n",
       "2   22         yellow     92  Omar Mullins"
      ]
     },
     "execution_count": 9,
     "metadata": {},
     "output_type": "execute_result"
    }
   ],
   "source": [
    "df.query('(Favorite_color == \"yellow\" or Favorite_color == \"green\") and (Grade >= 85 and Grade <= 95)')"
   ]
  }
 ],
 "metadata": {
  "kernelspec": {
   "display_name": "Python 3 (ipykernel)",
   "language": "python",
   "name": "python3"
  },
  "language_info": {
   "codemirror_mode": {
    "name": "ipython",
    "version": 3
   },
   "file_extension": ".py",
   "mimetype": "text/x-python",
   "name": "python",
   "nbconvert_exporter": "python",
   "pygments_lexer": "ipython3",
   "version": "3.7.4"
  },
  "toc": {
   "base_numbering": 1,
   "nav_menu": {},
   "number_sections": true,
   "sideBar": true,
   "skip_h1_title": false,
   "title_cell": "Table of Contents",
   "title_sidebar": "Contents",
   "toc_cell": false,
   "toc_position": {},
   "toc_section_display": true,
   "toc_window_display": false
  }
 },
 "nbformat": 4,
 "nbformat_minor": 5
}
